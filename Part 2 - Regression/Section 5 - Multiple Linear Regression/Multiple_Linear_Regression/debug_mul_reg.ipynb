{
 "cells": [
  {
   "cell_type": "code",
   "execution_count": 1,
   "metadata": {
    "collapsed": true
   },
   "outputs": [],
   "source": [
    "## Debugging Notebook for mul_reg.py"
   ]
  },
  {
   "cell_type": "code",
   "execution_count": 2,
   "metadata": {
    "collapsed": true
   },
   "outputs": [],
   "source": [
    "import pandas as pd\n",
    "import numpy as np \n",
    "import matplotlib.pyplot as plt"
   ]
  },
  {
   "cell_type": "code",
   "execution_count": 3,
   "metadata": {
    "collapsed": true
   },
   "outputs": [],
   "source": [
    "dataset = pd.read_csv('50_Startups.csv')\n",
    "X = dataset.iloc[:, :-1].values\n",
    "y = dataset.iloc[:, 4]"
   ]
  },
  {
   "cell_type": "code",
   "execution_count": 4,
   "metadata": {
    "collapsed": true
   },
   "outputs": [],
   "source": [
    "# encoding categorical variable\n",
    "from sklearn.preprocessing import LabelEncoder, OneHotEncoder\n",
    "labelencoder_X = LabelEncoder()\n",
    "X[:,3] = labelencoder_X.fit_transform(X[:,3])\n",
    "onehotencoder = OneHotEncoder(categorical_features=[3])\n",
    "X = onehotencoder.fit_transform(X).toarray()"
   ]
  },
  {
   "cell_type": "code",
   "execution_count": 12,
   "metadata": {},
   "outputs": [],
   "source": [
    "from sklearn.cross_validation import train_test_split\n",
    "X_train, X_test, y_train, y_test = train_test_split(X,y, train_size=0.8, random_state=0)"
   ]
  },
  {
   "cell_type": "code",
   "execution_count": 13,
   "metadata": {
    "collapsed": true
   },
   "outputs": [],
   "source": [
    "from sklearn.linear_model import LinearRegression\n",
    "regressor = LinearRegression() # created an object of the class linear regression\n",
    "regressor.fit(X_train, y_train)\n",
    "y_pred = regressor.predict(X_test)"
   ]
  },
  {
   "cell_type": "code",
   "execution_count": 14,
   "metadata": {
    "collapsed": true
   },
   "outputs": [],
   "source": [
    "import statsmodels.formula.api as sm \n",
    "X = np.append(arr = np.ones((50,1)).astype(int), values=X,axis=1)"
   ]
  },
  {
   "cell_type": "code",
   "execution_count": 15,
   "metadata": {
    "collapsed": true
   },
   "outputs": [],
   "source": [
    "X_opt = X[:, [0,1,2,3,4,5]]"
   ]
  },
  {
   "cell_type": "code",
   "execution_count": 16,
   "metadata": {},
   "outputs": [
    {
     "name": "stdout",
     "output_type": "stream",
     "text": [
      "                            OLS Regression Results                            \n",
      "==============================================================================\n",
      "Dep. Variable:                 Profit   R-squared:                       0.947\n",
      "Model:                            OLS   Adj. R-squared:                  0.943\n",
      "Method:                 Least Squares   F-statistic:                     272.4\n",
      "Date:                Sun, 08 Apr 2018   Prob (F-statistic):           2.76e-29\n",
      "Time:                        00:16:20   Log-Likelihood:                -527.35\n",
      "No. Observations:                  50   AIC:                             1063.\n",
      "Df Residuals:                      46   BIC:                             1070.\n",
      "Df Model:                           3                                         \n",
      "Covariance Type:            nonrobust                                         \n",
      "==============================================================================\n",
      "                 coef    std err          t      P>|t|      [0.025      0.975]\n",
      "------------------------------------------------------------------------------\n",
      "const       2.106e+04   1119.878     18.806      0.000    1.88e+04    2.33e+04\n",
      "x1          2.106e+04   1119.878     18.806      0.000    1.88e+04    2.33e+04\n",
      "x2          6629.0960   1918.921      3.455      0.001    2766.507    1.05e+04\n",
      "x3          7792.9623   2025.567      3.847      0.000    3715.707    1.19e+04\n",
      "x4          6638.6928   1957.622      3.391      0.001    2698.203    1.06e+04\n",
      "x5             0.8530      0.030     28.226      0.000       0.792       0.914\n",
      "==============================================================================\n",
      "Omnibus:                       13.418   Durbin-Watson:                   1.122\n",
      "Prob(Omnibus):                  0.001   Jarque-Bera (JB):               17.605\n",
      "Skew:                          -0.907   Prob(JB):                     0.000150\n",
      "Kurtosis:                       5.271   Cond. No.                     1.18e+21\n",
      "==============================================================================\n",
      "\n",
      "Warnings:\n",
      "[1] Standard Errors assume that the covariance matrix of the errors is correctly specified.\n",
      "[2] The smallest eigenvalue is 2.69e-31. This might indicate that there are\n",
      "strong multicollinearity problems or that the design matrix is singular.\n"
     ]
    }
   ],
   "source": [
    "regressor_OLS = sm.OLS(endog = y, exog = X_opt).fit()\n",
    "print(regressor_OLS.summary())"
   ]
  },
  {
   "cell_type": "code",
   "execution_count": 17,
   "metadata": {},
   "outputs": [
    {
     "name": "stdout",
     "output_type": "stream",
     "text": [
      "                            OLS Regression Results                            \n",
      "==============================================================================\n",
      "Dep. Variable:                 Profit   R-squared:                       0.024\n",
      "Model:                            OLS   Adj. R-squared:                 -0.018\n",
      "Method:                 Least Squares   F-statistic:                    0.5748\n",
      "Date:                Sun, 08 Apr 2018   Prob (F-statistic):              0.567\n",
      "Time:                        00:16:21   Log-Likelihood:                -600.05\n",
      "No. Observations:                  50   AIC:                             1206.\n",
      "Df Residuals:                      47   BIC:                             1212.\n",
      "Df Model:                           2                                         \n",
      "Covariance Type:            nonrobust                                         \n",
      "==============================================================================\n",
      "                 coef    std err          t      P>|t|      [0.025      0.975]\n",
      "------------------------------------------------------------------------------\n",
      "const       4.806e+04   2465.409     19.495      0.000    4.31e+04     5.3e+04\n",
      "x1          4.806e+04   2465.409     19.495      0.000    4.31e+04     5.3e+04\n",
      "x2          7780.7050   8123.567      0.958      0.343   -8561.803    2.41e+04\n",
      "x3          2.265e+04   8282.348      2.735      0.009    5987.618    3.93e+04\n",
      "x4          1.763e+04   8123.567      2.170      0.035    1289.468     3.4e+04\n",
      "==============================================================================\n",
      "Omnibus:                        0.111   Durbin-Watson:                   0.081\n",
      "Prob(Omnibus):                  0.946   Jarque-Bera (JB):                0.207\n",
      "Skew:                           0.104   Prob(JB):                        0.902\n",
      "Kurtosis:                       2.762   Cond. No.                     8.01e+16\n",
      "==============================================================================\n",
      "\n",
      "Warnings:\n",
      "[1] Standard Errors assume that the covariance matrix of the errors is correctly specified.\n",
      "[2] The smallest eigenvalue is 1.82e-32. This might indicate that there are\n",
      "strong multicollinearity problems or that the design matrix is singular.\n"
     ]
    }
   ],
   "source": [
    "X_opt = X[:, [0,1,2,3,4]]\n",
    "regressor_OLS = sm.OLS(endog = y, exog = X_opt).fit()\n",
    "print(regressor_OLS.summary())"
   ]
  },
  {
   "cell_type": "code",
   "execution_count": null,
   "metadata": {
    "collapsed": true
   },
   "outputs": [],
   "source": []
  },
  {
   "cell_type": "code",
   "execution_count": null,
   "metadata": {
    "collapsed": true
   },
   "outputs": [],
   "source": []
  }
 ],
 "metadata": {
  "kernelspec": {
   "display_name": "Python 3",
   "language": "python",
   "name": "python3"
  },
  "language_info": {
   "codemirror_mode": {
    "name": "ipython",
    "version": 3
   },
   "file_extension": ".py",
   "mimetype": "text/x-python",
   "name": "python",
   "nbconvert_exporter": "python",
   "pygments_lexer": "ipython3",
   "version": "3.6.3"
  }
 },
 "nbformat": 4,
 "nbformat_minor": 2
}
